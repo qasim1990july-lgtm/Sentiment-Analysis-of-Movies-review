{
 "cells": [
  {
   "cell_type": "code",
   "execution_count": 1,
   "id": "d2d7be6f",
   "metadata": {},
   "outputs": [],
   "source": [
    "import pandas as pd\n",
    "import numpy as np\n",
    "from sklearn.model_selection import train_test_split\n",
    "from sklearn.feature_extraction.text import TfidfVectorizer\n",
    "from sklearn.linear_model import LogisticRegression\n",
    "from sklearn.naive_bayes import MultinomialNB\n",
    "from sklearn.svm import LinearSVC\n",
    "from sklearn.metrics import accuracy_score, f1_score\n",
    "import nltk\n",
    "from nltk.corpus import stopwords\n",
    "import string\n"
   ]
  },
  {
   "cell_type": "markdown",
   "id": "86a4ef0b",
   "metadata": {},
   "source": [
    "download stopwords"
   ]
  },
  {
   "cell_type": "code",
   "execution_count": 2,
   "id": "5170f266",
   "metadata": {},
   "outputs": [
    {
     "name": "stderr",
     "output_type": "stream",
     "text": [
      "[nltk_data] Downloading package stopwords to\n",
      "[nltk_data]     C:\\Users\\Qasim\\AppData\\Roaming\\nltk_data...\n",
      "[nltk_data]   Package stopwords is already up-to-date!\n"
     ]
    }
   ],
   "source": [
    "nltk.download('stopwords')\n",
    "stop_words = set(stopwords.words('english'))\n"
   ]
  },
  {
   "cell_type": "markdown",
   "id": "f79d0d9f",
   "metadata": {},
   "source": [
    "Preprocessing"
   ]
  },
  {
   "cell_type": "code",
   "execution_count": 3,
   "id": "5689f629",
   "metadata": {},
   "outputs": [],
   "source": [
    "import re\n",
    "\n",
    "def preprocess_text(text):\n",
    "    # Lowercase\n",
    "    text = text.lower()\n",
    "    \n",
    "    # Remove HTML tags\n",
    "    text = re.sub(r\"<.*?>\", \" \", text)\n",
    "    \n",
    "    # Remove punctuation\n",
    "    text = text.translate(str.maketrans(\"\", \"\", string.punctuation))\n",
    "    \n",
    "    # Remove stopwords\n",
    "    words = [word for word in text.split() if word not in stop_words]\n",
    "    \n",
    "    return \" \".join(words)\n"
   ]
  },
  {
   "cell_type": "markdown",
   "id": "2f88d2a8",
   "metadata": {},
   "source": [
    "dataset"
   ]
  },
  {
   "cell_type": "code",
   "execution_count": 22,
   "id": "d4a23e44",
   "metadata": {},
   "outputs": [
    {
     "name": "stdout",
     "output_type": "stream",
     "text": [
      "                                              review  sentiment\n",
      "0  one reviewers mentioned watching 1 oz episode ...          1\n",
      "1  wonderful little production filming technique ...          1\n",
      "2  thought wonderful way spend time hot summer we...          1\n",
      "3  basically theres family little boy jake thinks...          0\n",
      "4  petter matteis love time money visually stunni...          1\n"
     ]
    }
   ],
   "source": [
    "# Load IMDb dataset\n",
    "data = pd.read_csv(\"IMDBDataset.csv\")\n",
    "\n",
    "# Apply preprocessing\n",
    "data['review'] = data['review'].apply(preprocess_text)\n",
    "\n",
    "# Encode labels: Positive = 1, Negative = 0\n",
    "data['sentiment'] = data['sentiment'].map({'positive': 1, 'negative': 0})\n",
    "\n",
    "print(data.head())\n"
   ]
  },
  {
   "cell_type": "markdown",
   "id": "557a5aec",
   "metadata": {},
   "source": [
    "trainig and testing and spliting"
   ]
  },
  {
   "cell_type": "code",
   "execution_count": 23,
   "id": "f7f06a0c",
   "metadata": {},
   "outputs": [],
   "source": [
    "# Split into train & test sets\n",
    "X_train, X_test, y_train, y_test = train_test_split(\n",
    "    data['review'], data['sentiment'], test_size=0.2, random_state=42\n",
    ")\n",
    "\n",
    "# Convert text into TF-IDF vectors\n",
    "vectorizer = TfidfVectorizer(max_features=5000)  # limit to 5000 features\n",
    "X_train_vec = vectorizer.fit_transform(X_train)\n",
    "X_test_vec = vectorizer.transform(X_test)\n"
   ]
  },
  {
   "cell_type": "markdown",
   "id": "01a68e3c",
   "metadata": {},
   "source": [
    "training models"
   ]
  },
  {
   "cell_type": "code",
   "execution_count": 24,
   "id": "327521f8",
   "metadata": {},
   "outputs": [],
   "source": [
    "# Logistic Regression\n",
    "log_reg = LogisticRegression(max_iter=200)\n",
    "log_reg.fit(X_train_vec, y_train)\n",
    "y_pred_lr = log_reg.predict(X_test_vec)\n",
    "\n",
    "# Naive Bayes\n",
    "nb = MultinomialNB()\n",
    "nb.fit(X_train_vec, y_train)\n",
    "y_pred_nb = nb.predict(X_test_vec)\n",
    "\n",
    "# Support Vector Machine\n",
    "svm = LinearSVC()\n",
    "svm.fit(X_train_vec, y_train)\n",
    "y_pred_svm = svm.predict(X_test_vec)\n"
   ]
  },
  {
   "cell_type": "markdown",
   "id": "23960a4a",
   "metadata": {},
   "source": [
    "models evaluation"
   ]
  },
  {
   "cell_type": "code",
   "execution_count": 25,
   "id": "5ca7b53a",
   "metadata": {},
   "outputs": [
    {
     "name": "stdout",
     "output_type": "stream",
     "text": [
      "Model: Logistic Regression\n",
      "Accuracy: 0.8917\n",
      "F1 Score: 0.8939171319424037\n",
      "------------------------------\n",
      "Model: Naive Bayes\n",
      "Accuracy: 0.8536\n",
      "F1 Score: 0.855164226355362\n",
      "------------------------------\n",
      "Model: SVM\n",
      "Accuracy: 0.883\n",
      "F1 Score: 0.8851815505397449\n",
      "------------------------------\n"
     ]
    }
   ],
   "source": [
    "def evaluate_model(name, y_true, y_pred):\n",
    "    print(f\"Model: {name}\")\n",
    "    print(\"Accuracy:\", accuracy_score(y_true, y_pred))\n",
    "    print(\"F1 Score:\", f1_score(y_true, y_pred))\n",
    "    print(\"-\" * 30)\n",
    "\n",
    "evaluate_model(\"Logistic Regression\", y_test, y_pred_lr)\n",
    "evaluate_model(\"Naive Bayes\", y_test, y_pred_nb)\n",
    "evaluate_model(\"SVM\", y_test, y_pred_svm)\n"
   ]
  },
  {
   "cell_type": "markdown",
   "id": "3e6d2d81",
   "metadata": {},
   "source": [
    "extract samples from dataset"
   ]
  },
  {
   "cell_type": "code",
   "execution_count": 26,
   "id": "4d8154cf",
   "metadata": {},
   "outputs": [
    {
     "name": "stdout",
     "output_type": "stream",
     "text": [
      "                                                  review sentiment\n",
      "47478  Director Douglas Sirk once said `there's a ver...  positive\n",
      "36879  I had the misfortune of wasting 10 quid buying...  negative\n",
      "25615  The parallels between this film and \"Captain W...  negative\n",
      "46300  This movie is one of the most unintentionally ...  negative\n",
      "103    No, this hilariously horrible 70's made-for-TV...  positive\n"
     ]
    }
   ],
   "source": [
    "import pandas as pd\n",
    "\n",
    "df = pd.read_csv(\"IMDBDataset.CSV\")  \n",
    "print(df.sample(n=5))\n"
   ]
  },
  {
   "cell_type": "markdown",
   "id": "ae4cb138",
   "metadata": {},
   "source": [
    "input"
   ]
  },
  {
   "cell_type": "code",
   "execution_count": 27,
   "id": "edef8d25",
   "metadata": {},
   "outputs": [
    {
     "name": "stdout",
     "output_type": "stream",
     "text": [
      " Sentiment Analysis System (type 'quit' to exit)\n",
      "\n",
      "Predicted Sentiment: Negative \n",
      "\n",
      "Exit...\n"
     ]
    }
   ],
   "source": [
    "def predict_sentiment(review, model):\n",
    "    # Preprocess review\n",
    "    review_clean = preprocess_text(review)\n",
    "    review_vec = vectorizer.transform([review_clean])\n",
    "    prediction = model.predict(review_vec)[0]\n",
    "    return \"Positive\" if prediction == 1 else \"Negative\"\n",
    "\n",
    "\n",
    "# Interactive loop\n",
    "print(\" Sentiment Analysis System (type 'quit' to exit)\\n\")\n",
    "while True:\n",
    "    user_review = input(\"Enter a movie review: \")\n",
    "    if user_review.lower() == \"quit\":\n",
    "        print(\"Exit...\")\n",
    "        break\n",
    "    sentiment = predict_sentiment(user_review, log_reg)  # You can replace log_reg with svm/nb\n",
    "    print(\"Predicted Sentiment:\", sentiment, \"\\n\")\n"
   ]
  }
 ],
 "metadata": {
  "kernelspec": {
   "display_name": "Python 3",
   "language": "python",
   "name": "python3"
  },
  "language_info": {
   "codemirror_mode": {
    "name": "ipython",
    "version": 3
   },
   "file_extension": ".py",
   "mimetype": "text/x-python",
   "name": "python",
   "nbconvert_exporter": "python",
   "pygments_lexer": "ipython3",
   "version": "3.13.7"
  }
 },
 "nbformat": 4,
 "nbformat_minor": 5
}
